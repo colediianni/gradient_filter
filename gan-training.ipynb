{
 "cells": [
  {
   "cell_type": "code",
   "execution_count": null,
   "id": "1a3fb16b",
   "metadata": {},
   "outputs": [],
   "source": [
    "from gan import *"
   ]
  },
  {
   "cell_type": "code",
   "execution_count": null,
   "id": "218e34c7",
   "metadata": {},
   "outputs": [],
   "source": [
    "g_lr = 0.0005\n",
    "d_lr = 0.0005\n",
    "recolorizer_lr = 0.00005\n",
    "\n",
    "for receptive_field in [2]:\n",
    "    model_type = (\n",
    "        f\"euclidean-g={g_lr}-d={d_lr}-r={recolorizer_lr}-rf={receptive_field}\"\n",
    "    )\n",
    "\n",
    "    train_gan(\n",
    "        \".\",\n",
    "        model_type,\n",
    "        \"cifar\",\n",
    "        \"rgb\",\n",
    "        \"cuda\",\n",
    "        epochs=10,\n",
    "        receptive_field=receptive_field,\n",
    "        g_lr=g_lr,\n",
    "        d_lr=d_lr,\n",
    "        recolorizer_lr=recolorizer_lr,\n",
    "    )"
   ]
  }
 ],
 "metadata": {
  "kernelspec": {
   "display_name": "Python 3 (ipykernel)",
   "language": "python",
   "name": "python3"
  },
  "language_info": {
   "codemirror_mode": {
    "name": "ipython",
    "version": 3
   },
   "file_extension": ".py",
   "mimetype": "text/x-python",
   "name": "python",
   "nbconvert_exporter": "python",
   "pygments_lexer": "ipython3",
   "version": "3.8.10"
  }
 },
 "nbformat": 4,
 "nbformat_minor": 5
}
