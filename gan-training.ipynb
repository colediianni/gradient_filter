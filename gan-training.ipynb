{
 "cells": [
  {
   "cell_type": "code",
   "execution_count": null,
   "id": "c40d72fe",
   "metadata": {},
   "outputs": [],
   "source": [
    "from gan import train_gan\n",
    "\n",
    "train_gan(\n",
    "    base_path='.',\n",
    "    dataroot=\"data/celeba\",\n",
    "    model_type=\"testing_learning_rates\",\n",
    "    dataset_name=\"celeba\",\n",
    "    colorspace=\"rgb\",\n",
    "    device=\"cuda\",\n",
    "    receptive_field=4,\n",
    "    epochs=100,\n",
    "    batch_size=8,\n",
    "    g_lr=0.0003,\n",
    "    d_lr=0.00005,\n",
    "    recolorizer_lr=0.0001,\n",
    ")"
   ]
  }
 ],
 "metadata": {
  "kernelspec": {
   "display_name": "Python 3 (ipykernel)",
   "language": "python",
   "name": "python3"
  },
  "language_info": {
   "codemirror_mode": {
    "name": "ipython",
    "version": 3
   },
   "file_extension": ".py",
   "mimetype": "text/x-python",
   "name": "python",
   "nbconvert_exporter": "python",
   "pygments_lexer": "ipython3",
   "version": "3.10.8"
  }
 },
 "nbformat": 4,
 "nbformat_minor": 5
}
