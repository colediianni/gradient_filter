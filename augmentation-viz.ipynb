{
 "cells": [
  {
   "cell_type": "code",
   "execution_count": null,
   "id": "38107095",
   "metadata": {},
   "outputs": [],
   "source": [
    "from augmentations import augmentations_dict\n",
    "from data import load_data_gan\n",
    "from matplotlib_inline.backend_inline import set_matplotlib_formats\n",
    "import matplotlib.pyplot as plt\n",
    "import torch\n",
    "from matplotlib.figure import Figure\n",
    "\n",
    "from torchvision.transforms import Compose\n",
    "\n",
    "\n",
    "set_matplotlib_formats(\"svg\")"
   ]
  },
  {
   "cell_type": "code",
   "execution_count": null,
   "id": "46cd132d",
   "metadata": {},
   "outputs": [],
   "source": [
    "torch.manual_seed(123)\n",
    "dataloader, _ = load_data_gan(\"cifar\", \"rgb\", 1)\n",
    "cat = next(iter(dataloader))[0][0]\n",
    "cat.shape"
   ]
  },
  {
   "cell_type": "code",
   "execution_count": null,
   "id": "2923fe06",
   "metadata": {},
   "outputs": [],
   "source": [
    "fig = Figure()\n",
    "\n",
    "axs = fig.subplots(3, 3)\n",
    "\n",
    "augs = [\"none\",\"gaussian_noise\",\"gaussian_blur\",\"color_jitter\",\"salt_and_pepper\",\"channel_permutation\",\"invert\",\"hue_shift\",\"grayscale\"]\n",
    "\n",
    "for i in range(axs.shape[0]):\n",
    "    for j in range(axs.shape[1]):\n",
    "        axs[i, j].set_axis_off()\n",
    "        idx = i * axs.shape[1] + j\n",
    "        current_aug_funcs = augmentations_dict[augs[idx]]\n",
    "        if len(current_aug_funcs):\n",
    "            cat_aug = Compose(current_aug_funcs)(cat.clone())\n",
    "        else:\n",
    "            cat_aug = cat.clone()\n",
    "        axs[i, j].set_title(augs[idx])\n",
    "        axs[i, j].imshow(cat_aug.permute(1, 2, 0))\n",
    "        \n",
    "        \n",
    "axs.shape\n",
    "fig.tight_layout()\n",
    "fig"
   ]
  },
  {
   "cell_type": "code",
   "execution_count": null,
   "id": "6faf73c2",
   "metadata": {},
   "outputs": [],
   "source": [
    "fig.savefig(\"/Users/spencrr/Downloads/cat_augs.png\")"
   ]
  },
  {
   "cell_type": "code",
   "execution_count": null,
   "id": "ed48932a",
   "metadata": {},
   "outputs": [],
   "source": [
    "dataloader, _ = load_data_gan(\"mnist\", \"rgb\", 1)\n",
    "img = next(iter(dataloader))[0][0].repeat(3, 1, 1)\n",
    "\n",
    "plt.imshow(img.permute(1, 2, 0))"
   ]
  },
  {
   "cell_type": "code",
   "execution_count": null,
   "id": "596753f7",
   "metadata": {
    "scrolled": false
   },
   "outputs": [],
   "source": [
    "fig = Figure()\n",
    "\n",
    "axs = fig.subplots(3, 3)\n",
    "\n",
    "augs = [\"none\",\"gaussian_noise\",\"gaussian_blur\",\"color_jitter\",\"salt_and_pepper\",\"channel_permutation\",\"invert\",\"channel_drop\",\"grayscale\"]\n",
    "\n",
    "for i in range(axs.shape[0]):\n",
    "    for j in range(axs.shape[1]):\n",
    "        axs[i, j].set_axis_off()\n",
    "        idx = i * axs.shape[1] + j\n",
    "        current_aug_funcs = augmentations_dict[augs[idx]]\n",
    "        if len(current_aug_funcs):\n",
    "            img_aug = Compose(current_aug_funcs)(img.clone())\n",
    "        else:\n",
    "            img_aug = img.clone()\n",
    "        axs[i, j].set_title(augs[idx])\n",
    "        axs[i, j].imshow(img_aug.permute(1, 2, 0))\n",
    "        \n",
    "        \n",
    "axs.shape\n",
    "fig.tight_layout()\n",
    "fig"
   ]
  },
  {
   "cell_type": "code",
   "execution_count": null,
   "id": "b3811efa",
   "metadata": {},
   "outputs": [],
   "source": [
    "fig.savefig(\"/Users/spencrr/Downloads/mnist_augs.png\")"
   ]
  }
 ],
 "metadata": {
  "kernelspec": {
   "display_name": "Python 3 (ipykernel)",
   "language": "python",
   "name": "python3"
  },
  "language_info": {
   "codemirror_mode": {
    "name": "ipython",
    "version": 3
   },
   "file_extension": ".py",
   "mimetype": "text/x-python",
   "name": "python",
   "nbconvert_exporter": "python",
   "pygments_lexer": "ipython3",
   "version": "3.10.8"
  }
 },
 "nbformat": 4,
 "nbformat_minor": 5
}
